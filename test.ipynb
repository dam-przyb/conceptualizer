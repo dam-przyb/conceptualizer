{
 "cells": [
  {
   "cell_type": "code",
   "execution_count": 4,
   "id": "75c93270",
   "metadata": {},
   "outputs": [],
   "source": [
    "import gradio as gr\n",
    "import tqdm\n",
    "import json\n",
    "from ollama import Client  # Import the Client class\n",
    "\n",
    "# Configuration\n",
    "MODEL = \"codellama:7b\"  # Or any other model you have in Ollama\n",
    "OLLAMA_URL = \"http://localhost:11434\"  # Default, change if needed\n",
    "system_message = \"You are a helpful assistant.\" #You can change the system message\n",
    "\n",
    "# Initialize Ollama client\n",
    "ollama_client = Client(host=OLLAMA_URL)\n",
    "\n",
    "def chat(message, history):\n",
    "    messages = [{\"role\": \"system\", \"content\": system_message}] + history + [{\"role\": \"user\", \"content\": message}]\n",
    "    response = ollama_client.chat(model=MODEL, messages=messages)\n",
    "    # The response from Ollama is a dictionary.  Extract the text.\n",
    "    reply = response['message']['content']\n",
    "    return reply\n",
    "\n",
    "\n",
    "# Create a Gradio ChatInterface\n",
    "iface = gr.ChatInterface(\n",
    "    fn=chat,\n",
    "    type=\"messages\",\n",
    "    title=\"Ollama Chat Interface\",\n",
    "    description=f\"Chat with the Ollama model: {MODEL}\",\n",
    ")\n"
   ]
  },
  {
   "cell_type": "code",
   "execution_count": 5,
   "id": "dbd14014",
   "metadata": {},
   "outputs": [
    {
     "name": "stdout",
     "output_type": "stream",
     "text": [
      "* Running on local URL:  http://127.0.0.1:7861\n",
      "\n",
      "To create a public link, set `share=True` in `launch()`.\n"
     ]
    },
    {
     "data": {
      "text/html": [
       "<div><iframe src=\"http://127.0.0.1:7861/\" width=\"100%\" height=\"500\" allow=\"autoplay; camera; microphone; clipboard-read; clipboard-write;\" frameborder=\"0\" allowfullscreen></iframe></div>"
      ],
      "text/plain": [
       "<IPython.core.display.HTML object>"
      ]
     },
     "metadata": {},
     "output_type": "display_data"
    },
    {
     "data": {
      "text/plain": []
     },
     "execution_count": 5,
     "metadata": {},
     "output_type": "execute_result"
    }
   ],
   "source": [
    "iface.launch(inbrowser=True)"
   ]
  },
  {
   "cell_type": "code",
   "execution_count": null,
   "id": "b599b9f2",
   "metadata": {},
   "outputs": [],
   "source": [
    "def list_models():\n",
    "    models = ollama_client.list()\n",
    "    for model in models:\n",
    "        print(model[\"name\"])\n"
   ]
  },
  {
   "cell_type": "code",
   "execution_count": null,
   "id": "7db78bb7",
   "metadata": {},
   "outputs": [],
   "source": [
    "lista = [model for model in ollama_client.list()]"
   ]
  },
  {
   "cell_type": "code",
   "execution_count": null,
   "id": "5567e2ca",
   "metadata": {},
   "outputs": [],
   "source": [
    "models = ollama_client.list().models\n",
    "\n",
    "print(models[0].model)"
   ]
  },
  {
   "cell_type": "code",
   "execution_count": null,
   "id": "32547687",
   "metadata": {},
   "outputs": [],
   "source": [
    "models = [mod.model for mod in ollama_client.list().models]"
   ]
  },
  {
   "cell_type": "code",
   "execution_count": null,
   "id": "4afc37e2",
   "metadata": {},
   "outputs": [],
   "source": [
    "models"
   ]
  }
 ],
 "metadata": {
  "kernelspec": {
   "display_name": "venv",
   "language": "python",
   "name": "python3"
  },
  "language_info": {
   "codemirror_mode": {
    "name": "ipython",
    "version": 3
   },
   "file_extension": ".py",
   "mimetype": "text/x-python",
   "name": "python",
   "nbconvert_exporter": "python",
   "pygments_lexer": "ipython3",
   "version": "3.13.3"
  }
 },
 "nbformat": 4,
 "nbformat_minor": 5
}

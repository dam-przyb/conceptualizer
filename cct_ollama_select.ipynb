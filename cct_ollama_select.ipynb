{
 "cells": [
  {
   "cell_type": "code",
   "execution_count": null,
   "id": "f86da6e8",
   "metadata": {},
   "outputs": [],
   "source": [
    "import tkinter as tk\n",
    "from tkinter import ttk\n",
    "import gradio as gr\n",
    "import tqdm\n",
    "import json\n",
    "from ollama import Client  # Import the Client class\n",
    "\n",
    "OLLAMA_URL = \"http://localhost:11434\"  # Default, change if needed\n",
    "system_message = \"You are a helpful assistant.\" #You can change the system message\n",
    "\n",
    "# Initialize Ollama client\n",
    "ollama_client = Client(host=OLLAMA_URL)"
   ]
  },
  {
   "cell_type": "code",
   "execution_count": null,
   "id": "1b00e360",
   "metadata": {},
   "outputs": [],
   "source": [
    "# Define the list of options\n",
    "options = [mod.model for mod in ollama_client.list().models]\n",
    "selected_option = None\n",
    "\n",
    "def get_selected_option():\n",
    "    global selected_option\n",
    "    selected_option = dropdown.get()\n",
    "    print(f\"You selected: {selected_option}\")\n",
    "    # You can now use the selected option in your Python script\n",
    "\n",
    "    root.destroy()  # Close the popup window\n",
    "\n",
    "# Create the main window\n",
    "root = tk.Tk()\n",
    "root.title(\"Select an Option\")\n",
    "\n",
    "# Create the dropdown\n",
    "dropdown = ttk.Combobox(root, values=options)\n",
    "dropdown.pack(pady=20)\n",
    "\n",
    "# Create the submit button\n",
    "submit_button = tk.Button(root, text=\"Submit\", command=get_selected_option)\n",
    "\n",
    "submit_button.pack(pady=10)\n",
    "\n",
    "# Start the main loop\n",
    "root.mainloop()"
   ]
  },
  {
   "cell_type": "code",
   "execution_count": null,
   "id": "75c93270",
   "metadata": {},
   "outputs": [],
   "source": [
    "# Configuration\n",
    "MODEL = selected_option #\"codellama:7b\"  # Or any other model you have in Ollama\n",
    "\n",
    "\n",
    "# Initialize Ollama client\n",
    "ollama_client = Client(host=OLLAMA_URL)\n",
    "\n",
    "def chat(message, history):\n",
    "    messages = [{\"role\": \"system\", \"content\": system_message}] + history + [{\"role\": \"user\", \"content\": message}]\n",
    "    response = ollama_client.chat(model=MODEL, messages=messages)\n",
    "    # The response from Ollama is a dictionary.  Extract the text.\n",
    "    reply = response['message']['content']\n",
    "    return reply\n",
    "\n",
    "\n",
    "# Create a Gradio ChatInterface\n",
    "iface = gr.ChatInterface(\n",
    "    fn=chat,\n",
    "    type=\"messages\",\n",
    "    title=\"Ollama Chat Interface\",\n",
    "    description=f\"Chat with the Ollama model: {MODEL}\",\n",
    ")\n"
   ]
  },
  {
   "cell_type": "code",
   "execution_count": null,
   "id": "dbd14014",
   "metadata": {},
   "outputs": [],
   "source": [
    "iface.launch(inbrowser=True)"
   ]
  }
 ],
 "metadata": {
  "kernelspec": {
   "display_name": "venv",
   "language": "python",
   "name": "python3"
  },
  "language_info": {
   "codemirror_mode": {
    "name": "ipython",
    "version": 3
   },
   "file_extension": ".py",
   "mimetype": "text/x-python",
   "name": "python",
   "nbconvert_exporter": "python",
   "pygments_lexer": "ipython3",
   "version": "3.13.3"
  }
 },
 "nbformat": 4,
 "nbformat_minor": 5
}
